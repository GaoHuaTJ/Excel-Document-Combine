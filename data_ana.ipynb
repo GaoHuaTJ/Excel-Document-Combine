{
 "cells": [
  {
   "cell_type": "code",
   "execution_count": 1,
   "metadata": {
    "collapsed": true,
    "pycharm": {
     "is_executing": false
    }
   },
   "outputs": [],
   "source": [
    "import os\n",
    "files=os.listdir(\"data\")#文件路径"
   ]
  },
  {
   "cell_type": "code",
   "execution_count": 2,
   "outputs": [
    {
     "name": "stdout",
     "text": [
      "文件0已合并\n",
      "文件1已合并\n",
      "文件2已合并\n",
      "文件3已合并\n",
      "文件4已合并\n",
      "文件5已合并\n",
      "文件6已合并\n",
      "文件7已合并\n",
      "文件8已合并\n",
      "文件9已合并\n",
      "文件10已合并\n",
      "文件11已合并\n",
      "文件12已合并\n",
      "文件13已合并\n",
      "文件14已合并\n",
      "文件15已合并\n",
      "文件16已合并\n",
      "文件17已合并\n",
      "文件18已合并\n",
      "文件19已合并\n",
      "文件20已合并\n",
      "文件21已合并\n",
      "文件22已合并\n",
      "文件23已合并\n",
      "文件24已合并\n",
      "文件25已合并\n",
      "文件26已合并\n",
      "文件27已合并\n",
      "文件28已合并\n",
      "文件29已合并\n",
      "文件30已合并\n",
      "文件31已合并\n",
      "文件32已合并\n",
      "文件33已合并\n",
      "文件34已合并\n",
      "文件35已合并\n",
      "文件36已合并\n",
      "文件37已合并\n",
      "文件38已合并\n",
      "文件39已合并\n",
      "文件40已合并\n",
      "文件41已合并\n",
      "文件42已合并\n",
      "文件43已合并\n",
      "文件44已合并\n",
      "文件45已合并\n",
      "文件46已合并\n",
      "文件47已合并\n",
      "文件48已合并\n",
      "文件49已合并\n",
      "文件50已合并\n",
      "文件51已合并\n",
      "文件52已合并\n",
      "文件53已合并\n",
      "文件54已合并\n",
      "文件55已合并\n",
      "文件56已合并\n",
      "文件57已合并\n",
      "文件58已合并\n",
      "文件59已合并\n",
      "文件60已合并\n",
      "文件61已合并\n",
      "文件62已合并\n",
      "文件63已合并\n",
      "文件64已合并\n",
      "文件65已合并\n",
      "文件66已合并\n",
      "文件67已合并\n",
      "文件68已合并\n",
      "文件69已合并\n",
      "文件70已合并\n",
      "文件71已合并\n",
      "文件72已合并\n",
      "文件73已合并\n",
      "文件74已合并\n",
      "文件75已合并\n",
      "文件76已合并\n",
      "文件77已合并\n",
      "文件78已合并\n",
      "文件79已合并\n",
      "文件80已合并\n",
      "文件81已合并\n",
      "文件82已合并\n",
      "文件83已合并\n",
      "文件84已合并\n"
     ],
     "output_type": "stream"
    }
   ],
   "source": [
    "import  pandas as pd\n",
    "#取得表格表头\n",
    "df=pd.read_excel(\"data/\"+files[0])\n",
    "df_final=pd.DataFrame(columns=df.columns)\n",
    "#读取每一个文件，合并到dataframe中\n",
    "for index,file in enumerate(files):\n",
    "    df=pd.read_excel(\"data/\"+file)\n",
    "    df_final=df_final.append(df.drop(list(range(len(df)-3,len(df)))))\n",
    "    print(\"文件{0}已合并\".format(index))"
   ],
   "metadata": {
    "collapsed": false,
    "pycharm": {
     "name": "#%%\n",
     "is_executing": false
    }
   }
  },
  {
   "cell_type": "code",
   "execution_count": 3,
   "outputs": [],
   "source": [
    "df_final.to_excel(\"原始数据.xlsx\")#输出文件输出到当前路径"
   ],
   "metadata": {
    "collapsed": false,
    "pycharm": {
     "name": "#%%\n",
     "is_executing": false
    }
   }
  }
 ],
 "metadata": {
  "kernelspec": {
   "display_name": "Python 3",
   "language": "python",
   "name": "python3"
  },
  "language_info": {
   "codemirror_mode": {
    "name": "ipython",
    "version": 2
   },
   "file_extension": ".py",
   "mimetype": "text/x-python",
   "name": "python",
   "nbconvert_exporter": "python",
   "pygments_lexer": "ipython2",
   "version": "2.7.6"
  },
  "pycharm": {
   "stem_cell": {
    "cell_type": "raw",
    "source": [],
    "metadata": {
     "collapsed": false
    }
   }
  }
 },
 "nbformat": 4,
 "nbformat_minor": 0
}